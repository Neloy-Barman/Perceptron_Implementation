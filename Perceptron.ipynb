{
  "nbformat": 4,
  "nbformat_minor": 0,
  "metadata": {
    "colab": {
      "provenance": []
    },
    "kernelspec": {
      "name": "python3",
      "display_name": "Python 3"
    },
    "language_info": {
      "name": "python"
    }
  },
  "cells": [
    {
      "cell_type": "code",
      "execution_count": 24,
      "metadata": {
        "id": "c15yHODM5SJt"
      },
      "outputs": [],
      "source": [
        "import pandas as pd\n",
        "import numpy as np\n",
        "%matplotlib inline\n",
        "import matplotlib.pyplot as plt"
      ]
    },
    {
      "cell_type": "code",
      "source": [
        "from google.colab import drive\n",
        "drive.mount('/gdrive')"
      ],
      "metadata": {
        "colab": {
          "base_uri": "https://localhost:8080/"
        },
        "id": "OVa7oLTD5f3Y",
        "outputId": "14e58265-455d-4e30-c57d-d7e040483cc4"
      },
      "execution_count": 25,
      "outputs": [
        {
          "output_type": "stream",
          "name": "stdout",
          "text": [
            "Drive already mounted at /gdrive; to attempt to forcibly remount, call drive.mount(\"/gdrive\", force_remount=True).\n"
          ]
        }
      ]
    },
    {
      "cell_type": "markdown",
      "source": [
        "# **`Reading the data & creating a dataframe`**"
      ],
      "metadata": {
        "id": "jd9hZ4uUIELi"
      }
    },
    {
      "cell_type": "code",
      "source": [
        "Columns = [\"x1\", \"x2\", \"Label\"]\n",
        "Perceptron_text = pd.read_csv(\"/gdrive/MyDrive/Pattern_Recognition/Perceptron/train-perceptron.txt\", dtype=float, header=None, sep=\" \", names=Columns)\n",
        "Perceptron_text"
      ],
      "metadata": {
        "colab": {
          "base_uri": "https://localhost:8080/",
          "height": 238
        },
        "id": "bd11KNBY5ajQ",
        "outputId": "1cf4e03b-1f12-44e8-bc90-df3646477974"
      },
      "execution_count": 26,
      "outputs": [
        {
          "output_type": "execute_result",
          "data": {
            "text/plain": [
              "    x1   x2  Label\n",
              "0  1.0  1.0    1.0\n",
              "1  1.0 -1.0    1.0\n",
              "2  2.0  2.5    2.0\n",
              "3  0.0  2.0    2.0\n",
              "4  2.0  3.0    2.0\n",
              "5  4.0  5.0    1.0"
            ],
            "text/html": [
              "\n",
              "  <div id=\"df-3412f7e0-a700-4782-807a-baecd1cd748d\">\n",
              "    <div class=\"colab-df-container\">\n",
              "      <div>\n",
              "<style scoped>\n",
              "    .dataframe tbody tr th:only-of-type {\n",
              "        vertical-align: middle;\n",
              "    }\n",
              "\n",
              "    .dataframe tbody tr th {\n",
              "        vertical-align: top;\n",
              "    }\n",
              "\n",
              "    .dataframe thead th {\n",
              "        text-align: right;\n",
              "    }\n",
              "</style>\n",
              "<table border=\"1\" class=\"dataframe\">\n",
              "  <thead>\n",
              "    <tr style=\"text-align: right;\">\n",
              "      <th></th>\n",
              "      <th>x1</th>\n",
              "      <th>x2</th>\n",
              "      <th>Label</th>\n",
              "    </tr>\n",
              "  </thead>\n",
              "  <tbody>\n",
              "    <tr>\n",
              "      <th>0</th>\n",
              "      <td>1.0</td>\n",
              "      <td>1.0</td>\n",
              "      <td>1.0</td>\n",
              "    </tr>\n",
              "    <tr>\n",
              "      <th>1</th>\n",
              "      <td>1.0</td>\n",
              "      <td>-1.0</td>\n",
              "      <td>1.0</td>\n",
              "    </tr>\n",
              "    <tr>\n",
              "      <th>2</th>\n",
              "      <td>2.0</td>\n",
              "      <td>2.5</td>\n",
              "      <td>2.0</td>\n",
              "    </tr>\n",
              "    <tr>\n",
              "      <th>3</th>\n",
              "      <td>0.0</td>\n",
              "      <td>2.0</td>\n",
              "      <td>2.0</td>\n",
              "    </tr>\n",
              "    <tr>\n",
              "      <th>4</th>\n",
              "      <td>2.0</td>\n",
              "      <td>3.0</td>\n",
              "      <td>2.0</td>\n",
              "    </tr>\n",
              "    <tr>\n",
              "      <th>5</th>\n",
              "      <td>4.0</td>\n",
              "      <td>5.0</td>\n",
              "      <td>1.0</td>\n",
              "    </tr>\n",
              "  </tbody>\n",
              "</table>\n",
              "</div>\n",
              "      <button class=\"colab-df-convert\" onclick=\"convertToInteractive('df-3412f7e0-a700-4782-807a-baecd1cd748d')\"\n",
              "              title=\"Convert this dataframe to an interactive table.\"\n",
              "              style=\"display:none;\">\n",
              "        \n",
              "  <svg xmlns=\"http://www.w3.org/2000/svg\" height=\"24px\"viewBox=\"0 0 24 24\"\n",
              "       width=\"24px\">\n",
              "    <path d=\"M0 0h24v24H0V0z\" fill=\"none\"/>\n",
              "    <path d=\"M18.56 5.44l.94 2.06.94-2.06 2.06-.94-2.06-.94-.94-2.06-.94 2.06-2.06.94zm-11 1L8.5 8.5l.94-2.06 2.06-.94-2.06-.94L8.5 2.5l-.94 2.06-2.06.94zm10 10l.94 2.06.94-2.06 2.06-.94-2.06-.94-.94-2.06-.94 2.06-2.06.94z\"/><path d=\"M17.41 7.96l-1.37-1.37c-.4-.4-.92-.59-1.43-.59-.52 0-1.04.2-1.43.59L10.3 9.45l-7.72 7.72c-.78.78-.78 2.05 0 2.83L4 21.41c.39.39.9.59 1.41.59.51 0 1.02-.2 1.41-.59l7.78-7.78 2.81-2.81c.8-.78.8-2.07 0-2.86zM5.41 20L4 18.59l7.72-7.72 1.47 1.35L5.41 20z\"/>\n",
              "  </svg>\n",
              "      </button>\n",
              "      \n",
              "  <style>\n",
              "    .colab-df-container {\n",
              "      display:flex;\n",
              "      flex-wrap:wrap;\n",
              "      gap: 12px;\n",
              "    }\n",
              "\n",
              "    .colab-df-convert {\n",
              "      background-color: #E8F0FE;\n",
              "      border: none;\n",
              "      border-radius: 50%;\n",
              "      cursor: pointer;\n",
              "      display: none;\n",
              "      fill: #1967D2;\n",
              "      height: 32px;\n",
              "      padding: 0 0 0 0;\n",
              "      width: 32px;\n",
              "    }\n",
              "\n",
              "    .colab-df-convert:hover {\n",
              "      background-color: #E2EBFA;\n",
              "      box-shadow: 0px 1px 2px rgba(60, 64, 67, 0.3), 0px 1px 3px 1px rgba(60, 64, 67, 0.15);\n",
              "      fill: #174EA6;\n",
              "    }\n",
              "\n",
              "    [theme=dark] .colab-df-convert {\n",
              "      background-color: #3B4455;\n",
              "      fill: #D2E3FC;\n",
              "    }\n",
              "\n",
              "    [theme=dark] .colab-df-convert:hover {\n",
              "      background-color: #434B5C;\n",
              "      box-shadow: 0px 1px 3px 1px rgba(0, 0, 0, 0.15);\n",
              "      filter: drop-shadow(0px 1px 2px rgba(0, 0, 0, 0.3));\n",
              "      fill: #FFFFFF;\n",
              "    }\n",
              "  </style>\n",
              "\n",
              "      <script>\n",
              "        const buttonEl =\n",
              "          document.querySelector('#df-3412f7e0-a700-4782-807a-baecd1cd748d button.colab-df-convert');\n",
              "        buttonEl.style.display =\n",
              "          google.colab.kernel.accessAllowed ? 'block' : 'none';\n",
              "\n",
              "        async function convertToInteractive(key) {\n",
              "          const element = document.querySelector('#df-3412f7e0-a700-4782-807a-baecd1cd748d');\n",
              "          const dataTable =\n",
              "            await google.colab.kernel.invokeFunction('convertToInteractive',\n",
              "                                                     [key], {});\n",
              "          if (!dataTable) return;\n",
              "\n",
              "          const docLinkHtml = 'Like what you see? Visit the ' +\n",
              "            '<a target=\"_blank\" href=https://colab.research.google.com/notebooks/data_table.ipynb>data table notebook</a>'\n",
              "            + ' to learn more about interactive tables.';\n",
              "          element.innerHTML = '';\n",
              "          dataTable['output_type'] = 'display_data';\n",
              "          await google.colab.output.renderOutput(dataTable, element);\n",
              "          const docLink = document.createElement('div');\n",
              "          docLink.innerHTML = docLinkHtml;\n",
              "          element.appendChild(docLink);\n",
              "        }\n",
              "      </script>\n",
              "    </div>\n",
              "  </div>\n",
              "  "
            ]
          },
          "metadata": {},
          "execution_count": 26
        }
      ]
    },
    {
      "cell_type": "markdown",
      "source": [
        "# **`Unique labels`**"
      ],
      "metadata": {
        "id": "JKSxIgfqILCi"
      }
    },
    {
      "cell_type": "code",
      "source": [
        "Unique_labels = np.unique(np.array(Perceptron_text[\"Label\"]))\n",
        "Unique_labels"
      ],
      "metadata": {
        "colab": {
          "base_uri": "https://localhost:8080/"
        },
        "id": "JodrJnWxB5hS",
        "outputId": "ef78ce39-9e88-44ef-bbe6-be36440ba283"
      },
      "execution_count": 27,
      "outputs": [
        {
          "output_type": "execute_result",
          "data": {
            "text/plain": [
              "array([1., 2.])"
            ]
          },
          "metadata": {},
          "execution_count": 27
        }
      ]
    },
    {
      "cell_type": "markdown",
      "source": [
        "# **`Plotting the data points`**"
      ],
      "metadata": {
        "id": "_pyfo8vzITfB"
      }
    },
    {
      "cell_type": "code",
      "source": [
        "import matplotlib.patches as mpatches\n",
        "\n",
        "plt.figure(figsize=(5,5))\n",
        "\n",
        "for i in range(len(Perceptron_text)):\n",
        "  if Perceptron_text.loc[i][\"Label\"] == 1.0:\n",
        "    plt.plot(Perceptron_text.loc[i][\"x1\"], Perceptron_text.loc[i][\"x2\"], \"bo\")\n",
        "  else:\n",
        "    plt.plot(Perceptron_text.loc[i][\"x1\"], Perceptron_text.loc[i][\"x2\"], \"r*\")\n",
        "\n",
        "one = mpatches.Patch(color='blue', label='1')\n",
        "two = mpatches.Patch(color='red', label='2')\n",
        "plt.legend(handles=[one, two])\n",
        "\n",
        "plt.show()"
      ],
      "metadata": {
        "colab": {
          "base_uri": "https://localhost:8080/",
          "height": 320
        },
        "id": "mUxfgs235atg",
        "outputId": "6232d93e-063e-49c8-951f-a7943d964501"
      },
      "execution_count": 28,
      "outputs": [
        {
          "output_type": "display_data",
          "data": {
            "text/plain": [
              "<Figure size 360x360 with 1 Axes>"
            ],
            "image/png": "[encoded data removed]"
          },
          "metadata": {
            "needs_background": "light"
          }
        }
      ]
    },
    {
      "cell_type": "markdown",
      "source": [
        "# **`Second order polynomial discriminant function`**"
      ],
      "metadata": {
        "id": "MRGBDjihIYux"
      }
    },
    {
      "cell_type": "code",
      "source": [
        "Y = []\n",
        "\n",
        "for i in range(len(Perceptron_text)):\n",
        "  x1 = Perceptron_text.loc[i][\"x1\"]\n",
        "  x2 = Perceptron_text.loc[i][\"x2\"]\n",
        "  temp = []\n",
        "  temp.extend([x1**2, x2**2, x1*x2, x1, x2, 1])\n",
        "  Y.append(temp)\n"
      ],
      "metadata": {
        "id": "KAFLm0k35axJ"
      },
      "execution_count": 29,
      "outputs": []
    },
    {
      "cell_type": "markdown",
      "source": [
        "# **`Normalization`**"
      ],
      "metadata": {
        "id": "WGb1wRKbIl2J"
      }
    },
    {
      "cell_type": "code",
      "source": [
        "for i in range(len(Perceptron_text)):\n",
        "  if Perceptron_text.loc[i][\"Label\"] == 2.0:\n",
        "    Y[i] = list(np.array(Y[i])*-1)"
      ],
      "metadata": {
        "id": "pSu2RAlH5a0Y"
      },
      "execution_count": 30,
      "outputs": []
    },
    {
      "cell_type": "markdown",
      "source": [
        "# **`Activition with weight`**"
      ],
      "metadata": {
        "id": "ilwRYxLtI7aD"
      }
    },
    {
      "cell_type": "code",
      "source": [
        "def Activation(Perceptron_text, Weight):\n",
        "  Result = []   \n",
        "  for i in range(len(Perceptron_text)):\n",
        "    Result.append( np.sum(np.array(Y[i])*Weight) )\n",
        "  return Result"
      ],
      "metadata": {
        "id": "OAFDPidpfDMa"
      },
      "execution_count": 31,
      "outputs": []
    },
    {
      "cell_type": "markdown",
      "source": [
        "# **`Check misclassification`**"
      ],
      "metadata": {
        "id": "4Q32iGnTJC0h"
      }
    },
    {
      "cell_type": "code",
      "source": [
        "def Check_misclassification(Result):\n",
        "  for i in range(len(Result)):\n",
        "    if Result[i] <= 0:\n",
        "      return 1\n",
        "  return 0"
      ],
      "metadata": {
        "id": "5F3WhoEBh2sY"
      },
      "execution_count": 32,
      "outputs": []
    },
    {
      "cell_type": "markdown",
      "source": [
        "# **`Finding the misclassified label indexes`**"
      ],
      "metadata": {
        "id": "xXlaoaGoJJBo"
      }
    },
    {
      "cell_type": "code",
      "source": [
        "def Misclassified_Indexes(Result):\n",
        "  Misclassified = []\n",
        "  for i in range(len(Result)):\n",
        "    if Result[i] <= 0:\n",
        "      Misclassified.append(i)\n",
        "  return Misclassified"
      ],
      "metadata": {
        "id": "QviwHuYmiTmn"
      },
      "execution_count": 33,
      "outputs": []
    },
    {
      "cell_type": "markdown",
      "source": [
        "# **`Weight Update`**"
      ],
      "metadata": {
        "id": "zjuP8XoKJPTP"
      }
    },
    {
      "cell_type": "code",
      "source": [
        "def Weight_update(Misclassified, learning_rate, Y, Previous_Weight):\n",
        "  Error = np.zeros((1,6), dtype=float)\n",
        "  for i in range(len(Misclassified)):\n",
        "    Error = Error + np.array(Y[Misclassified[i]])\n",
        "  return Previous_Weight + (Error*learning_rate)"
      ],
      "metadata": {
        "id": "9LlYq_Izjh8X"
      },
      "execution_count": 34,
      "outputs": []
    },
    {
      "cell_type": "markdown",
      "source": [
        "# **`Total Batch Perceptron`**"
      ],
      "metadata": {
        "id": "_UOB4lG8JUMI"
      }
    },
    {
      "cell_type": "code",
      "source": [
        "def Batch_perceptron(perceptron_text, learning_rate, Weight, Batch_update):\n",
        "\n",
        "  classified_flag = 0\n",
        "  iteration_number = 0\n",
        "\n",
        "  while classified_flag != 1:\n",
        "    iteration_number = iteration_number + 1\n",
        "    Result = Activation(Perceptron_text, Weight)  \n",
        "    if Check_misclassification(Result) == 1:\n",
        "      Misclassified = Misclassified_Indexes(Result)\n",
        "      Weight = Weight_update(Misclassified, learning_rate, Y, Weight)\n",
        "    else:\n",
        "      classified_flag = 1\n",
        "      Batch_update[str(learning_rate)] = iteration_number"
      ],
      "metadata": {
        "id": "NXOOJSVY5bH5"
      },
      "execution_count": 35,
      "outputs": []
    },
    {
      "cell_type": "markdown",
      "source": [
        "# **`Passing different learning rates & checking the batch perceptron iterartions`**"
      ],
      "metadata": {
        "id": "vNYn5eO6JfvR"
      }
    },
    {
      "cell_type": "code",
      "source": [
        "def Pass_Batch_Weight(Weight, Batch_update): \n",
        "  # learning rate from 0.1 - 1.0  \n",
        "  learning_rate = 0.1\n",
        "  while learning_rate <= 1.:\n",
        "    Batch_perceptron(Perceptron_text, learning_rate, Weight, Batch_update)\n",
        "    learning_rate = round(learning_rate + 0.1,2)"
      ],
      "metadata": {
        "id": "TJx2WnNMm1Q8"
      },
      "execution_count": 36,
      "outputs": []
    },
    {
      "cell_type": "markdown",
      "source": [
        "# **`Single Perceptron`**"
      ],
      "metadata": {
        "id": "OY8SyZqLJrp4"
      }
    },
    {
      "cell_type": "code",
      "source": [
        "def Single_perceptron(Perceptron_text, Weight, learning_rate, Single_update):\n",
        "\n",
        "  classified_flag = 0\n",
        "  iteration_number = 0\n",
        "\n",
        "  while classified_flag != 1:\n",
        "    \n",
        "    iteration_number = iteration_number + 1\n",
        "    correctly_classified = len(Perceptron_text)\n",
        "\n",
        "    for i in range(len(Perceptron_text)):\n",
        "      Result = np.sum(np.array(Y[i])*Weight)\n",
        "      \n",
        "      if Result <= 0:\n",
        "        correctly_classified = correctly_classified - 1\n",
        "        Weight = Weight + np.array(Y[i])*learning_rate\n",
        "    \n",
        "    if correctly_classified == len(Perceptron_text):\n",
        "      classified_flag = 1\n",
        "  \n",
        "  Single_update[str(learning_rate)] = iteration_number\n"
      ],
      "metadata": {
        "id": "SRteBRtU1pqJ"
      },
      "execution_count": 37,
      "outputs": []
    },
    {
      "cell_type": "markdown",
      "source": [
        "# **`Passing different learning rates & checking the single perceptron iterartions`**"
      ],
      "metadata": {
        "id": "6o6TH4kvJ6NQ"
      }
    },
    {
      "cell_type": "code",
      "source": [
        "def Pass_Single_Weight(Weight, Single_update): \n",
        "  learning_rate = 0.1\n",
        "  while learning_rate <= 1.0:\n",
        "    Single_perceptron(Perceptron_text, Weight, learning_rate, Single_update)\n",
        "    learning_rate = round(learning_rate + 0.1,2)"
      ],
      "metadata": {
        "id": "Vku5hEfU1puI"
      },
      "execution_count": 38,
      "outputs": []
    },
    {
      "cell_type": "markdown",
      "source": [
        "# **`Plot bar`**"
      ],
      "metadata": {
        "id": "SUPBCjxMKBCY"
      }
    },
    {
      "cell_type": "code",
      "source": [
        "def Plot_bar(Batch_weight, Single_weight, suffix):\n",
        "  \n",
        "  plt.subplots(figsize=(20,10))\n",
        "  bar_width = 0.4\n",
        "\n",
        "  rates = list(Batch_weight.keys())\n",
        "  batch_iters = list(Batch_weight.values())\n",
        "  single_iters = list(Single_weight.values())\n",
        "\n",
        "  bar1 = np.arange(len(single_iters))\n",
        "  bar2 = [x+bar_width for x in bar1]\n",
        "\n",
        "  plt.bar(bar1, single_iters, width = bar_width, color = \"red\")\n",
        "  plt.bar(bar2, batch_iters, width = bar_width, color = \"blue\")\n",
        "\n",
        "  plt.title(f\"Perceptron comparison for {suffix}\", fontsize = 20)\n",
        "  plt.xlabel(\"Learning rate\", fontsize = 15)\n",
        "  plt.ylabel(\"No. of iterations\", fontsize = 15)\n",
        "  \n",
        "  plt.xticks([r+bar_width/2 for r in range(len(single_iters))], rates, rotation = 90)\n",
        "  \n",
        "  many = mpatches.Patch(color='blue', label='Many at a time')\n",
        "  one = mpatches.Patch(color='red', label='One at a time')\n",
        "  \n",
        "  plt.legend(handles=[many, one])\n",
        "  plt.show()"
      ],
      "metadata": {
        "id": "u9AYpKmU-Sz6"
      },
      "execution_count": 39,
      "outputs": []
    },
    {
      "cell_type": "markdown",
      "source": [
        "# **`Viewing performance in DataFrame`**"
      ],
      "metadata": {
        "id": "57iokojyKHIg"
      }
    },
    {
      "cell_type": "code",
      "source": [
        "def View_DataFrame(Single_update, Batch_update):\n",
        "  Rates = list()\n",
        "  [Rates.append(round(i+0.1, 2)) for i in np.arange(0.0, 1.0, 0.1)]\n",
        "\n",
        "  Single = list(Single_update.values()) \n",
        "  Batch = list(Batch_update.values()) \n",
        "\n",
        "  view_data = {\n",
        "      \"Alpha ( Learning rate ) \" : Rates,\n",
        "      \"One at a Time\" : Single,\n",
        "      \"Many at a Time\" : Batch\n",
        "  }\n",
        "\n",
        "  viewframe = pd.DataFrame(data = view_data, index=None)\n",
        "  return viewframe"
      ],
      "metadata": {
        "id": "J6-5EX2U1qEE"
      },
      "execution_count": 40,
      "outputs": []
    },
    {
      "cell_type": "markdown",
      "source": [
        "# **`Passing Weight vector all Zero`**"
      ],
      "metadata": {
        "id": "_naFWvXuKQCY"
      }
    },
    {
      "cell_type": "code",
      "source": [
        "# Zero Weight\n",
        "Weight_zeros = np.zeros((1,6), dtype = float)\n",
        "\n",
        "Batch_update_zero_weight = dict()\n",
        "Pass_Batch_Weight(Weight_zeros, Batch_update_zero_weight)\n",
        "\n",
        "Single_update_zero_weight = dict()\n",
        "Pass_Single_Weight(Weight_zeros, Single_update_zero_weight)\n",
        "\n",
        "View_DataFrame(Single_update_zero_weight, Batch_update_zero_weight)"
      ],
      "metadata": {
        "colab": {
          "base_uri": "https://localhost:8080/",
          "height": 363
        },
        "id": "DAfeHQoT1qO6",
        "outputId": "91d3fd2c-3d76-4f2b-8dcb-f0107567a16c"
      },
      "execution_count": 41,
      "outputs": [
        {
          "output_type": "execute_result",
          "data": {
            "text/plain": [
              "   Alpha ( Learning rate )   One at a Time  Many at a Time\n",
              "0                       0.1            141             105\n",
              "1                       0.2            141             105\n",
              "2                       0.3            141             105\n",
              "3                       0.4            141             105\n",
              "4                       0.5            141              92\n",
              "5                       0.6            141             105\n",
              "6                       0.7            141              92\n",
              "7                       0.8            141             105\n",
              "8                       0.9            141             105\n",
              "9                       1.0            141              92"
            ],
            "text/html": [
              "\n",
              "  <div id=\"df-9ac459e1-2c1b-4b9e-8d35-5131ab451536\">\n",
              "    <div class=\"colab-df-container\">\n",
              "      <div>\n",
              "<style scoped>\n",
              "    .dataframe tbody tr th:only-of-type {\n",
              "        vertical-align: middle;\n",
              "    }\n",
              "\n",
              "    .dataframe tbody tr th {\n",
              "        vertical-align: top;\n",
              "    }\n",
              "\n",
              "    .dataframe thead th {\n",
              "        text-align: right;\n",
              "    }\n",
              "</style>\n",
              "<table border=\"1\" class=\"dataframe\">\n",
              "  <thead>\n",
              "    <tr style=\"text-align: right;\">\n",
              "      <th></th>\n",
              "      <th>Alpha ( Learning rate )</th>\n",
              "      <th>One at a Time</th>\n",
              "      <th>Many at a Time</th>\n",
              "    </tr>\n",
              "  </thead>\n",
              "  <tbody>\n",
              "    <tr>\n",
              "      <th>0</th>\n",
              "      <td>0.1</td>\n",
              "      <td>141</td>\n",
              "      <td>105</td>\n",
              "    </tr>\n",
              "    <tr>\n",
              "      <th>1</th>\n",
              "      <td>0.2</td>\n",
              "      <td>141</td>\n",
              "      <td>105</td>\n",
              "    </tr>\n",
              "    <tr>\n",
              "      <th>2</th>\n",
              "      <td>0.3</td>\n",
              "      <td>141</td>\n",
              "      <td>105</td>\n",
              "    </tr>\n",
              "    <tr>\n",
              "      <th>3</th>\n",
              "      <td>0.4</td>\n",
              "      <td>141</td>\n",
              "      <td>105</td>\n",
              "    </tr>\n",
              "    <tr>\n",
              "      <th>4</th>\n",
              "      <td>0.5</td>\n",
              "      <td>141</td>\n",
              "      <td>92</td>\n",
              "    </tr>\n",
              "    <tr>\n",
              "      <th>5</th>\n",
              "      <td>0.6</td>\n",
              "      <td>141</td>\n",
              "      <td>105</td>\n",
              "    </tr>\n",
              "    <tr>\n",
              "      <th>6</th>\n",
              "      <td>0.7</td>\n",
              "      <td>141</td>\n",
              "      <td>92</td>\n",
              "    </tr>\n",
              "    <tr>\n",
              "      <th>7</th>\n",
              "      <td>0.8</td>\n",
              "      <td>141</td>\n",
              "      <td>105</td>\n",
              "    </tr>\n",
              "    <tr>\n",
              "      <th>8</th>\n",
              "      <td>0.9</td>\n",
              "      <td>141</td>\n",
              "      <td>105</td>\n",
              "    </tr>\n",
              "    <tr>\n",
              "      <th>9</th>\n",
              "      <td>1.0</td>\n",
              "      <td>141</td>\n",
              "      <td>92</td>\n",
              "    </tr>\n",
              "  </tbody>\n",
              "</table>\n",
              "</div>\n",
              "      <button class=\"colab-df-convert\" onclick=\"convertToInteractive('df-9ac459e1-2c1b-4b9e-8d35-5131ab451536')\"\n",
              "              title=\"Convert this dataframe to an interactive table.\"\n",
              "              style=\"display:none;\">\n",
              "        \n",
              "  <svg xmlns=\"http://www.w3.org/2000/svg\" height=\"24px\"viewBox=\"0 0 24 24\"\n",
              "       width=\"24px\">\n",
              "    <path d=\"M0 0h24v24H0V0z\" fill=\"none\"/>\n",
              "    <path d=\"M18.56 5.44l.94 2.06.94-2.06 2.06-.94-2.06-.94-.94-2.06-.94 2.06-2.06.94zm-11 1L8.5 8.5l.94-2.06 2.06-.94-2.06-.94L8.5 2.5l-.94 2.06-2.06.94zm10 10l.94 2.06.94-2.06 2.06-.94-2.06-.94-.94-2.06-.94 2.06-2.06.94z\"/><path d=\"M17.41 7.96l-1.37-1.37c-.4-.4-.92-.59-1.43-.59-.52 0-1.04.2-1.43.59L10.3 9.45l-7.72 7.72c-.78.78-.78 2.05 0 2.83L4 21.41c.39.39.9.59 1.41.59.51 0 1.02-.2 1.41-.59l7.78-7.78 2.81-2.81c.8-.78.8-2.07 0-2.86zM5.41 20L4 18.59l7.72-7.72 1.47 1.35L5.41 20z\"/>\n",
              "  </svg>\n",
              "      </button>\n",
              "      \n",
              "  <style>\n",
              "    .colab-df-container {\n",
              "      display:flex;\n",
              "      flex-wrap:wrap;\n",
              "      gap: 12px;\n",
              "    }\n",
              "\n",
              "    .colab-df-convert {\n",
              "      background-color: #E8F0FE;\n",
              "      border: none;\n",
              "      border-radius: 50%;\n",
              "      cursor: pointer;\n",
              "      display: none;\n",
              "      fill: #1967D2;\n",
              "      height: 32px;\n",
              "      padding: 0 0 0 0;\n",
              "      width: 32px;\n",
              "    }\n",
              "\n",
              "    .colab-df-convert:hover {\n",
              "      background-color: #E2EBFA;\n",
              "      box-shadow: 0px 1px 2px rgba(60, 64, 67, 0.3), 0px 1px 3px 1px rgba(60, 64, 67, 0.15);\n",
              "      fill: #174EA6;\n",
              "    }\n",
              "\n",
              "    [theme=dark] .colab-df-convert {\n",
              "      background-color: #3B4455;\n",
              "      fill: #D2E3FC;\n",
              "    }\n",
              "\n",
              "    [theme=dark] .colab-df-convert:hover {\n",
              "      background-color: #434B5C;\n",
              "      box-shadow: 0px 1px 3px 1px rgba(0, 0, 0, 0.15);\n",
              "      filter: drop-shadow(0px 1px 2px rgba(0, 0, 0, 0.3));\n",
              "      fill: #FFFFFF;\n",
              "    }\n",
              "  </style>\n",
              "\n",
              "      <script>\n",
              "        const buttonEl =\n",
              "          document.querySelector('#df-9ac459e1-2c1b-4b9e-8d35-5131ab451536 button.colab-df-convert');\n",
              "        buttonEl.style.display =\n",
              "          google.colab.kernel.accessAllowed ? 'block' : 'none';\n",
              "\n",
              "        async function convertToInteractive(key) {\n",
              "          const element = document.querySelector('#df-9ac459e1-2c1b-4b9e-8d35-5131ab451536');\n",
              "          const dataTable =\n",
              "            await google.colab.kernel.invokeFunction('convertToInteractive',\n",
              "                                                     [key], {});\n",
              "          if (!dataTable) return;\n",
              "\n",
              "          const docLinkHtml = 'Like what you see? Visit the ' +\n",
              "            '<a target=\"_blank\" href=https://colab.research.google.com/notebooks/data_table.ipynb>data table notebook</a>'\n",
              "            + ' to learn more about interactive tables.';\n",
              "          element.innerHTML = '';\n",
              "          dataTable['output_type'] = 'display_data';\n",
              "          await google.colab.output.renderOutput(dataTable, element);\n",
              "          const docLink = document.createElement('div');\n",
              "          docLink.innerHTML = docLinkHtml;\n",
              "          element.appendChild(docLink);\n",
              "        }\n",
              "      </script>\n",
              "    </div>\n",
              "  </div>\n",
              "  "
            ]
          },
          "metadata": {},
          "execution_count": 41
        }
      ]
    },
    {
      "cell_type": "code",
      "source": [
        "Plot_bar(Batch_update_zero_weight, Single_update_zero_weight, \"Initial Weight Vector All Zero\")"
      ],
      "metadata": {
        "colab": {
          "base_uri": "https://localhost:8080/",
          "height": 637
        },
        "id": "StUdb_mn1qRh",
        "outputId": "879b966c-3cd5-438c-c0ac-f28d3cf6d8e7"
      },
      "execution_count": 42,
      "outputs": [
        {
          "output_type": "display_data",
          "data": {
            "text/plain": [
              "<Figure size 1440x720 with 1 Axes>"
            ],
            "image/png": "[encoded data removed]"
          },
          "metadata": {
            "needs_background": "light"
          }
        }
      ]
    },
    {
      "cell_type": "markdown",
      "source": [
        "# **`Passing weight vector all ones`**"
      ],
      "metadata": {
        "id": "8TsrOaONKZYg"
      }
    },
    {
      "cell_type": "code",
      "source": [
        "# One Weight\n",
        "Weight_ones = np.ones((1,6), dtype=float)\n",
        "\n",
        "Batch_update_one_weight = dict()\n",
        "Pass_Batch_Weight(Weight_ones, Batch_update_one_weight)\n",
        "\n",
        "Single_update_one_weight = dict()\n",
        "Pass_Single_Weight(Weight_ones, Single_update_one_weight)\n",
        "\n",
        "View_DataFrame(Single_update_one_weight, Batch_update_one_weight)"
      ],
      "metadata": {
        "colab": {
          "base_uri": "https://localhost:8080/",
          "height": 363
        },
        "id": "mZP5oCRVGvCT",
        "outputId": "63e17087-cd28-4308-c287-e0feb768bcad"
      },
      "execution_count": 43,
      "outputs": [
        {
          "output_type": "execute_result",
          "data": {
            "text/plain": [
              "   Alpha ( Learning rate )   One at a Time  Many at a Time\n",
              "0                       0.1              6             102\n",
              "1                       0.2            147             104\n",
              "2                       0.3            149              91\n",
              "3                       0.4            149             116\n",
              "4                       0.5            141             105\n",
              "5                       0.6            157             114\n",
              "6                       0.7            136              91\n",
              "7                       0.8            136              91\n",
              "8                       0.9            140             105\n",
              "9                       1.0            141              93"
            ],
            "text/html": [
              "\n",
              "  <div id=\"df-4fef187e-900e-4028-b4fd-b837d1ab237a\">\n",
              "    <div class=\"colab-df-container\">\n",
              "      <div>\n",
              "<style scoped>\n",
              "    .dataframe tbody tr th:only-of-type {\n",
              "        vertical-align: middle;\n",
              "    }\n",
              "\n",
              "    .dataframe tbody tr th {\n",
              "        vertical-align: top;\n",
              "    }\n",
              "\n",
              "    .dataframe thead th {\n",
              "        text-align: right;\n",
              "    }\n",
              "</style>\n",
              "<table border=\"1\" class=\"dataframe\">\n",
              "  <thead>\n",
              "    <tr style=\"text-align: right;\">\n",
              "      <th></th>\n",
              "      <th>Alpha ( Learning rate )</th>\n",
              "      <th>One at a Time</th>\n",
              "      <th>Many at a Time</th>\n",
              "    </tr>\n",
              "  </thead>\n",
              "  <tbody>\n",
              "    <tr>\n",
              "      <th>0</th>\n",
              "      <td>0.1</td>\n",
              "      <td>6</td>\n",
              "      <td>102</td>\n",
              "    </tr>\n",
              "    <tr>\n",
              "      <th>1</th>\n",
              "      <td>0.2</td>\n",
              "      <td>147</td>\n",
              "      <td>104</td>\n",
              "    </tr>\n",
              "    <tr>\n",
              "      <th>2</th>\n",
              "      <td>0.3</td>\n",
              "      <td>149</td>\n",
              "      <td>91</td>\n",
              "    </tr>\n",
              "    <tr>\n",
              "      <th>3</th>\n",
              "      <td>0.4</td>\n",
              "      <td>149</td>\n",
              "      <td>116</td>\n",
              "    </tr>\n",
              "    <tr>\n",
              "      <th>4</th>\n",
              "      <td>0.5</td>\n",
              "      <td>141</td>\n",
              "      <td>105</td>\n",
              "    </tr>\n",
              "    <tr>\n",
              "      <th>5</th>\n",
              "      <td>0.6</td>\n",
              "      <td>157</td>\n",
              "      <td>114</td>\n",
              "    </tr>\n",
              "    <tr>\n",
              "      <th>6</th>\n",
              "      <td>0.7</td>\n",
              "      <td>136</td>\n",
              "      <td>91</td>\n",
              "    </tr>\n",
              "    <tr>\n",
              "      <th>7</th>\n",
              "      <td>0.8</td>\n",
              "      <td>136</td>\n",
              "      <td>91</td>\n",
              "    </tr>\n",
              "    <tr>\n",
              "      <th>8</th>\n",
              "      <td>0.9</td>\n",
              "      <td>140</td>\n",
              "      <td>105</td>\n",
              "    </tr>\n",
              "    <tr>\n",
              "      <th>9</th>\n",
              "      <td>1.0</td>\n",
              "      <td>141</td>\n",
              "      <td>93</td>\n",
              "    </tr>\n",
              "  </tbody>\n",
              "</table>\n",
              "</div>\n",
              "      <button class=\"colab-df-convert\" onclick=\"convertToInteractive('df-4fef187e-900e-4028-b4fd-b837d1ab237a')\"\n",
              "              title=\"Convert this dataframe to an interactive table.\"\n",
              "              style=\"display:none;\">\n",
              "        \n",
              "  <svg xmlns=\"http://www.w3.org/2000/svg\" height=\"24px\"viewBox=\"0 0 24 24\"\n",
              "       width=\"24px\">\n",
              "    <path d=\"M0 0h24v24H0V0z\" fill=\"none\"/>\n",
              "    <path d=\"M18.56 5.44l.94 2.06.94-2.06 2.06-.94-2.06-.94-.94-2.06-.94 2.06-2.06.94zm-11 1L8.5 8.5l.94-2.06 2.06-.94-2.06-.94L8.5 2.5l-.94 2.06-2.06.94zm10 10l.94 2.06.94-2.06 2.06-.94-2.06-.94-.94-2.06-.94 2.06-2.06.94z\"/><path d=\"M17.41 7.96l-1.37-1.37c-.4-.4-.92-.59-1.43-.59-.52 0-1.04.2-1.43.59L10.3 9.45l-7.72 7.72c-.78.78-.78 2.05 0 2.83L4 21.41c.39.39.9.59 1.41.59.51 0 1.02-.2 1.41-.59l7.78-7.78 2.81-2.81c.8-.78.8-2.07 0-2.86zM5.41 20L4 18.59l7.72-7.72 1.47 1.35L5.41 20z\"/>\n",
              "  </svg>\n",
              "      </button>\n",
              "      \n",
              "  <style>\n",
              "    .colab-df-container {\n",
              "      display:flex;\n",
              "      flex-wrap:wrap;\n",
              "      gap: 12px;\n",
              "    }\n",
              "\n",
              "    .colab-df-convert {\n",
              "      background-color: #E8F0FE;\n",
              "      border: none;\n",
              "      border-radius: 50%;\n",
              "      cursor: pointer;\n",
              "      display: none;\n",
              "      fill: #1967D2;\n",
              "      height: 32px;\n",
              "      padding: 0 0 0 0;\n",
              "      width: 32px;\n",
              "    }\n",
              "\n",
              "    .colab-df-convert:hover {\n",
              "      background-color: #E2EBFA;\n",
              "      box-shadow: 0px 1px 2px rgba(60, 64, 67, 0.3), 0px 1px 3px 1px rgba(60, 64, 67, 0.15);\n",
              "      fill: #174EA6;\n",
              "    }\n",
              "\n",
              "    [theme=dark] .colab-df-convert {\n",
              "      background-color: #3B4455;\n",
              "      fill: #D2E3FC;\n",
              "    }\n",
              "\n",
              "    [theme=dark] .colab-df-convert:hover {\n",
              "      background-color: #434B5C;\n",
              "      box-shadow: 0px 1px 3px 1px rgba(0, 0, 0, 0.15);\n",
              "      filter: drop-shadow(0px 1px 2px rgba(0, 0, 0, 0.3));\n",
              "      fill: #FFFFFF;\n",
              "    }\n",
              "  </style>\n",
              "\n",
              "      <script>\n",
              "        const buttonEl =\n",
              "          document.querySelector('#df-4fef187e-900e-4028-b4fd-b837d1ab237a button.colab-df-convert');\n",
              "        buttonEl.style.display =\n",
              "          google.colab.kernel.accessAllowed ? 'block' : 'none';\n",
              "\n",
              "        async function convertToInteractive(key) {\n",
              "          const element = document.querySelector('#df-4fef187e-900e-4028-b4fd-b837d1ab237a');\n",
              "          const dataTable =\n",
              "            await google.colab.kernel.invokeFunction('convertToInteractive',\n",
              "                                                     [key], {});\n",
              "          if (!dataTable) return;\n",
              "\n",
              "          const docLinkHtml = 'Like what you see? Visit the ' +\n",
              "            '<a target=\"_blank\" href=https://colab.research.google.com/notebooks/data_table.ipynb>data table notebook</a>'\n",
              "            + ' to learn more about interactive tables.';\n",
              "          element.innerHTML = '';\n",
              "          dataTable['output_type'] = 'display_data';\n",
              "          await google.colab.output.renderOutput(dataTable, element);\n",
              "          const docLink = document.createElement('div');\n",
              "          docLink.innerHTML = docLinkHtml;\n",
              "          element.appendChild(docLink);\n",
              "        }\n",
              "      </script>\n",
              "    </div>\n",
              "  </div>\n",
              "  "
            ]
          },
          "metadata": {},
          "execution_count": 43
        }
      ]
    },
    {
      "cell_type": "code",
      "source": [
        "Plot_bar(Batch_update_one_weight, Single_update_one_weight, \"Initial Weight Vector All One\")"
      ],
      "metadata": {
        "colab": {
          "base_uri": "https://localhost:8080/",
          "height": 637
        },
        "id": "4-ICwmkJGvF8",
        "outputId": "a237ef83-fedb-4374-b811-f7e7cee80bc4"
      },
      "execution_count": 44,
      "outputs": [
        {
          "output_type": "display_data",
          "data": {
            "text/plain": [
              "<Figure size 1440x720 with 1 Axes>"
            ],
            "image/png": "[encoded data removed]"
          },
          "metadata": {
            "needs_background": "light"
          }
        }
      ]
    },
    {
      "cell_type": "markdown",
      "source": [
        "# **`Passing random weights to the weight vector`**"
      ],
      "metadata": {
        "id": "_kMl6deSKf9f"
      }
    },
    {
      "cell_type": "code",
      "source": [
        "# Random Weight\n",
        "np.random.seed(53)\n",
        "Weight_random = np.random.random((1,6))\n",
        "\n",
        "Batch_update_random_weight = dict()\n",
        "Pass_Batch_Weight(Weight_random, Batch_update_random_weight)\n",
        "\n",
        "Single_update_random_weight = dict()\n",
        "Pass_Single_Weight(Weight_random, Single_update_random_weight)\n",
        "\n",
        "View_DataFrame(Single_update_random_weight, Batch_update_random_weight)"
      ],
      "metadata": {
        "colab": {
          "base_uri": "https://localhost:8080/",
          "height": 363
        },
        "id": "0bXIqzWnG9Xq",
        "outputId": "3d56e4ed-2c7d-4cce-a9dc-e88ac6be4e06"
      },
      "execution_count": 45,
      "outputs": [
        {
          "output_type": "execute_result",
          "data": {
            "text/plain": [
              "   Alpha ( Learning rate )   One at a Time  Many at a Time\n",
              "0                       0.1            140              99\n",
              "1                       0.2            136             101\n",
              "2                       0.3            154              87\n",
              "3                       0.4            136              91\n",
              "4                       0.5            140             105\n",
              "5                       0.6            140             122\n",
              "6                       0.7            150             105\n",
              "7                       0.8            149             106\n",
              "8                       0.9            157              88\n",
              "9                       1.0            157             101"
            ],
            "text/html": [
              "\n",
              "  <div id=\"df-960167a5-e7c0-4722-8b51-b52f2aee5331\">\n",
              "    <div class=\"colab-df-container\">\n",
              "      <div>\n",
              "<style scoped>\n",
              "    .dataframe tbody tr th:only-of-type {\n",
              "        vertical-align: middle;\n",
              "    }\n",
              "\n",
              "    .dataframe tbody tr th {\n",
              "        vertical-align: top;\n",
              "    }\n",
              "\n",
              "    .dataframe thead th {\n",
              "        text-align: right;\n",
              "    }\n",
              "</style>\n",
              "<table border=\"1\" class=\"dataframe\">\n",
              "  <thead>\n",
              "    <tr style=\"text-align: right;\">\n",
              "      <th></th>\n",
              "      <th>Alpha ( Learning rate )</th>\n",
              "      <th>One at a Time</th>\n",
              "      <th>Many at a Time</th>\n",
              "    </tr>\n",
              "  </thead>\n",
              "  <tbody>\n",
              "    <tr>\n",
              "      <th>0</th>\n",
              "      <td>0.1</td>\n",
              "      <td>140</td>\n",
              "      <td>99</td>\n",
              "    </tr>\n",
              "    <tr>\n",
              "      <th>1</th>\n",
              "      <td>0.2</td>\n",
              "      <td>136</td>\n",
              "      <td>101</td>\n",
              "    </tr>\n",
              "    <tr>\n",
              "      <th>2</th>\n",
              "      <td>0.3</td>\n",
              "      <td>154</td>\n",
              "      <td>87</td>\n",
              "    </tr>\n",
              "    <tr>\n",
              "      <th>3</th>\n",
              "      <td>0.4</td>\n",
              "      <td>136</td>\n",
              "      <td>91</td>\n",
              "    </tr>\n",
              "    <tr>\n",
              "      <th>4</th>\n",
              "      <td>0.5</td>\n",
              "      <td>140</td>\n",
              "      <td>105</td>\n",
              "    </tr>\n",
              "    <tr>\n",
              "      <th>5</th>\n",
              "      <td>0.6</td>\n",
              "      <td>140</td>\n",
              "      <td>122</td>\n",
              "    </tr>\n",
              "    <tr>\n",
              "      <th>6</th>\n",
              "      <td>0.7</td>\n",
              "      <td>150</td>\n",
              "      <td>105</td>\n",
              "    </tr>\n",
              "    <tr>\n",
              "      <th>7</th>\n",
              "      <td>0.8</td>\n",
              "      <td>149</td>\n",
              "      <td>106</td>\n",
              "    </tr>\n",
              "    <tr>\n",
              "      <th>8</th>\n",
              "      <td>0.9</td>\n",
              "      <td>157</td>\n",
              "      <td>88</td>\n",
              "    </tr>\n",
              "    <tr>\n",
              "      <th>9</th>\n",
              "      <td>1.0</td>\n",
              "      <td>157</td>\n",
              "      <td>101</td>\n",
              "    </tr>\n",
              "  </tbody>\n",
              "</table>\n",
              "</div>\n",
              "      <button class=\"colab-df-convert\" onclick=\"convertToInteractive('df-960167a5-e7c0-4722-8b51-b52f2aee5331')\"\n",
              "              title=\"Convert this dataframe to an interactive table.\"\n",
              "              style=\"display:none;\">\n",
              "        \n",
              "  <svg xmlns=\"http://www.w3.org/2000/svg\" height=\"24px\"viewBox=\"0 0 24 24\"\n",
              "       width=\"24px\">\n",
              "    <path d=\"M0 0h24v24H0V0z\" fill=\"none\"/>\n",
              "    <path d=\"M18.56 5.44l.94 2.06.94-2.06 2.06-.94-2.06-.94-.94-2.06-.94 2.06-2.06.94zm-11 1L8.5 8.5l.94-2.06 2.06-.94-2.06-.94L8.5 2.5l-.94 2.06-2.06.94zm10 10l.94 2.06.94-2.06 2.06-.94-2.06-.94-.94-2.06-.94 2.06-2.06.94z\"/><path d=\"M17.41 7.96l-1.37-1.37c-.4-.4-.92-.59-1.43-.59-.52 0-1.04.2-1.43.59L10.3 9.45l-7.72 7.72c-.78.78-.78 2.05 0 2.83L4 21.41c.39.39.9.59 1.41.59.51 0 1.02-.2 1.41-.59l7.78-7.78 2.81-2.81c.8-.78.8-2.07 0-2.86zM5.41 20L4 18.59l7.72-7.72 1.47 1.35L5.41 20z\"/>\n",
              "  </svg>\n",
              "      </button>\n",
              "      \n",
              "  <style>\n",
              "    .colab-df-container {\n",
              "      display:flex;\n",
              "      flex-wrap:wrap;\n",
              "      gap: 12px;\n",
              "    }\n",
              "\n",
              "    .colab-df-convert {\n",
              "      background-color: #E8F0FE;\n",
              "      border: none;\n",
              "      border-radius: 50%;\n",
              "      cursor: pointer;\n",
              "      display: none;\n",
              "      fill: #1967D2;\n",
              "      height: 32px;\n",
              "      padding: 0 0 0 0;\n",
              "      width: 32px;\n",
              "    }\n",
              "\n",
              "    .colab-df-convert:hover {\n",
              "      background-color: #E2EBFA;\n",
              "      box-shadow: 0px 1px 2px rgba(60, 64, 67, 0.3), 0px 1px 3px 1px rgba(60, 64, 67, 0.15);\n",
              "      fill: #174EA6;\n",
              "    }\n",
              "\n",
              "    [theme=dark] .colab-df-convert {\n",
              "      background-color: #3B4455;\n",
              "      fill: #D2E3FC;\n",
              "    }\n",
              "\n",
              "    [theme=dark] .colab-df-convert:hover {\n",
              "      background-color: #434B5C;\n",
              "      box-shadow: 0px 1px 3px 1px rgba(0, 0, 0, 0.15);\n",
              "      filter: drop-shadow(0px 1px 2px rgba(0, 0, 0, 0.3));\n",
              "      fill: #FFFFFF;\n",
              "    }\n",
              "  </style>\n",
              "\n",
              "      <script>\n",
              "        const buttonEl =\n",
              "          document.querySelector('#df-960167a5-e7c0-4722-8b51-b52f2aee5331 button.colab-df-convert');\n",
              "        buttonEl.style.display =\n",
              "          google.colab.kernel.accessAllowed ? 'block' : 'none';\n",
              "\n",
              "        async function convertToInteractive(key) {\n",
              "          const element = document.querySelector('#df-960167a5-e7c0-4722-8b51-b52f2aee5331');\n",
              "          const dataTable =\n",
              "            await google.colab.kernel.invokeFunction('convertToInteractive',\n",
              "                                                     [key], {});\n",
              "          if (!dataTable) return;\n",
              "\n",
              "          const docLinkHtml = 'Like what you see? Visit the ' +\n",
              "            '<a target=\"_blank\" href=https://colab.research.google.com/notebooks/data_table.ipynb>data table notebook</a>'\n",
              "            + ' to learn more about interactive tables.';\n",
              "          element.innerHTML = '';\n",
              "          dataTable['output_type'] = 'display_data';\n",
              "          await google.colab.output.renderOutput(dataTable, element);\n",
              "          const docLink = document.createElement('div');\n",
              "          docLink.innerHTML = docLinkHtml;\n",
              "          element.appendChild(docLink);\n",
              "        }\n",
              "      </script>\n",
              "    </div>\n",
              "  </div>\n",
              "  "
            ]
          },
          "metadata": {},
          "execution_count": 45
        }
      ]
    },
    {
      "cell_type": "code",
      "source": [
        "Plot_bar(Batch_update_random_weight, Single_update_random_weight, \"Initial Random Weight Vector\")"
      ],
      "metadata": {
        "colab": {
          "base_uri": "https://localhost:8080/",
          "height": 637
        },
        "id": "RUYfnas1G9ba",
        "outputId": "d9888e7d-eddd-4e37-b92b-8cf657f89611"
      },
      "execution_count": 46,
      "outputs": [
        {
          "output_type": "display_data",
          "data": {
            "text/plain": [
              "<Figure size 1440x720 with 1 Axes>"
            ],
            "image/png": "[encoded data removed]"
          },
          "metadata": {
            "needs_background": "light"
          }
        }
      ]
    }
  ]
}